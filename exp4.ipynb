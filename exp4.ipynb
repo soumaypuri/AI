{
  "nbformat": 4,
  "nbformat_minor": 0,
  "metadata": {
    "colab": {
      "provenance": [],
      "authorship_tag": "ABX9TyMibuVNjQ553D3psHVP5wTP",
      "include_colab_link": true
    },
    "kernelspec": {
      "name": "python3",
      "display_name": "Python 3"
    },
    "language_info": {
      "name": "python"
    }
  },
  "cells": [
    {
      "cell_type": "markdown",
      "metadata": {
        "id": "view-in-github",
        "colab_type": "text"
      },
      "source": [
        "<a href=\"https://colab.research.google.com/github/kalyanSadhukhan/AI_LAB_217/blob/main/Untitled14.ipynb\" target=\"_parent\"><img src=\"https://colab.research.google.com/assets/colab-badge.svg\" alt=\"Open In Colab\"/></a>"
      ]
    },
    {
      "cell_type": "code",
      "execution_count": 4,
      "metadata": {
        "colab": {
          "base_uri": "https://localhost:8080/"
        },
        "id": "67qqDnoPS5z8",
        "outputId": "797b15e6-dc9f-4c78-8a0f-eb5917386ea2"
      },
      "outputs": [
        {
          "output_type": "stream",
          "name": "stdout",
          "text": [
            "Shortest path: ['A', 'C', 'D']\n",
            "Total cost: 5\n"
          ]
        }
      ],
      "source": [
        "import heapq\n",
        "class Graph:\n",
        "    def __init__(self):\n",
        "        self.graph = {}\n",
        "    def add_edge(self, node1, node2, cost):\n",
        "        if node1 not in self.graph:\n",
        "            self.graph[node1] = []\n",
        "        if node2 not in self.graph:\n",
        "            self.graph[node2] = []\n",
        "        self.graph[node1].append((node2, cost))\n",
        "        self.graph[node2].append((node1, cost))\n",
        "    def a_star(self, start, goal, heuristic):\n",
        "        open_list = []\n",
        "        heapq.heappush(open_list, (0 + heuristic[start], 0, start, []))\n",
        "        closed_set = set()\n",
        "        while open_list:\n",
        "            _, cost, current, path = heapq.heappop(open_list)\n",
        "            if current in closed_set:\n",
        "                continue\n",
        "            path = path + [current]\n",
        "            closed_set.add(current)\n",
        "            if current == goal:\n",
        "                return path, cost\n",
        "            for neighbor, edge_cost in self.graph.get(current, []):\n",
        "                if neighbor not in closed_set:\n",
        "                    heapq.heappush(open_list, (cost + edge_cost + heuristic[neighbor], cost + edge_cost, neighbor, path))\n",
        "        return None, float(\"inf\")\n",
        "graph = Graph()\n",
        "graph.add_edge(\"A\", \"B\", 1)\n",
        "graph.add_edge(\"A\", \"C\", 4)\n",
        "graph.add_edge(\"B\", \"C\", 2)\n",
        "graph.add_edge(\"B\", \"D\", 5)\n",
        "graph.add_edge(\"C\", \"D\", 1)\n",
        "test_heuristic = {\"A\": 7, \"B\": 6, \"C\": 2, \"D\": 0}\n",
        "path, cost = graph.a_star(\"A\", \"D\", test_heuristic)\n",
        "print(\"Shortest path:\", path)\n",
        "print(\"Total cost:\", cost)"
      ]
    }
  ]
}
