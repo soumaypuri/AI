{
  "nbformat": 4,
  "nbformat_minor": 0,
  "metadata": {
    "colab": {
      "provenance": [],
      "authorship_tag": "ABX9TyOIfVSRh7bgGGqKVB+6CT7I",
      "include_colab_link": true
    },
    "kernelspec": {
      "name": "python3",
      "display_name": "Python 3"
    },
    "language_info": {
      "name": "python"
    }
  },
  "cells": [
    {
      "cell_type": "markdown",
      "metadata": {
        "id": "view-in-github",
        "colab_type": "text"
      },
      "source": [
        "<a href=\"https://colab.research.google.com/github/kalyanSadhukhan/AI_LAB_217/blob/main/Untitled14.ipynb\" target=\"_parent\"><img src=\"https://colab.research.google.com/assets/colab-badge.svg\" alt=\"Open In Colab\"/></a>"
      ]
    },
    {
      "cell_type": "code",
      "execution_count": 3,
      "metadata": {
        "colab": {
          "base_uri": "https://localhost:8080/"
        },
        "id": "67qqDnoPS5z8",
        "outputId": "225bc691-e4e3-4398-92d7-13d1b19688c5"
      },
      "outputs": [
        {
          "output_type": "stream",
          "name": "stdout",
          "text": [
            "Least-cost path from A to G: ['A', 'B', 'E', 'G']\n",
            "Total Cost: 9\n"
          ]
        }
      ],
      "source": [
        "import heapq\n",
        "def uniform_cost_search(graph, start, goal):\n",
        "    priority_queue = [(0, start, [])]\n",
        "    visited = set()\n",
        "    while priority_queue:\n",
        "        cost, node, path = heapq.heappop(priority_queue)\n",
        "        if node in visited:\n",
        "            continue\n",
        "        path = path + [node]\n",
        "        visited.add(node)\n",
        "        if node == goal:\n",
        "            return cost, path\n",
        "        for neighbor, edge_cost in graph.get(node, []):\n",
        "            if neighbor not in visited:\n",
        "                heapq.heappush(priority_queue, (cost + edge_cost, neighbor, path))\n",
        "    return float('inf'), []\n",
        "graph = {'A': [('B', 2), ('C', 3)], 'B': [('A', 2), ('D', 1), ('E', 5)], 'C': [('A', 3), ('F', 6)], 'D': [('B', 1)], 'E': [('B', 5), ('G', 2)], 'F': [('C', 6)], 'G': [('E', 2)]}\n",
        "start_node = 'A'\n",
        "goal_node = 'G'\n",
        "cost, path = uniform_cost_search(graph, start_node, goal_node)\n",
        "print(f\"Least-cost path from {start_node} to {goal_node}: {path}\")\n",
        "print(f\"Total Cost: {cost}\")\n"
      ]
    }
  ]
}
