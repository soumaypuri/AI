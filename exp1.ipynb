{
  "nbformat": 4,
  "nbformat_minor": 0,
  "metadata": {
    "colab": {
      "provenance": [],
      "authorship_tag": "ABX9TyNmG4NtY7B0NhtuWCc1eabE",
      "include_colab_link": true
    },
    "kernelspec": {
      "name": "python3",
      "display_name": "Python 3"
    },
    "language_info": {
      "name": "python"
    }
  },
  "cells": [
    {
      "cell_type": "markdown",
      "metadata": {
        "id": "view-in-github",
        "colab_type": "text"
      },
      "source": [
        "<a href=\"https://colab.research.google.com/github/kalyanSadhukhan/AI_LAB_217/blob/main/Untitled14.ipynb\" target=\"_parent\"><img src=\"https://colab.research.google.com/assets/colab-badge.svg\" alt=\"Open In Colab\"/></a>"
      ]
    },
    {
      "cell_type": "code",
      "execution_count": 1,
      "metadata": {
        "colab": {
          "base_uri": "https://localhost:8080/"
        },
        "id": "67qqDnoPS5z8",
        "outputId": "0481aee1-b3d8-49db-8a6a-77f316d397f6"
      },
      "outputs": [
        {
          "output_type": "stream",
          "name": "stdout",
          "text": [
            "Original Array: [12  4 56 17  8 99  5]\n",
            "Sorted Array: [ 4  5  8 12 17 56 99]\n"
          ]
        }
      ],
      "source": [
        "import numpy as np\n",
        "array = np.array([12, 4, 56, 17, 8, 99, 5])\n",
        "print(\"Original Array:\", array)\n",
        "print(\"Sorted Array:\", np.sort(array))\n"
      ]
    }
  ]
}
