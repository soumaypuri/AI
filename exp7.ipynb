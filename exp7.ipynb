{
  "nbformat": 4,
  "nbformat_minor": 0,
  "metadata": {
    "colab": {
      "provenance": [],
      "authorship_tag": "ABX9TyOwBZx29QxyOecq4jI2Fo4P",
      "include_colab_link": true
    },
    "kernelspec": {
      "name": "python3",
      "display_name": "Python 3"
    },
    "language_info": {
      "name": "python"
    }
  },
  "cells": [
    {
      "cell_type": "markdown",
      "metadata": {
        "id": "view-in-github",
        "colab_type": "text"
      },
      "source": [
        "<a href=\"https://colab.research.google.com/github/kalyanSadhukhan/AI_LAB_217/blob/main/Untitled14.ipynb\" target=\"_parent\"><img src=\"https://colab.research.google.com/assets/colab-badge.svg\" alt=\"Open In Colab\"/></a>"
      ]
    },
    {
      "cell_type": "code",
      "execution_count": 9,
      "metadata": {
        "colab": {
          "base_uri": "https://localhost:8080/"
        },
        "id": "67qqDnoPS5z8",
        "outputId": "0b424af2-0606-4e15-cdcf-6c09be8c2297"
      },
      "outputs": [
        {
          "output_type": "stream",
          "name": "stdout",
          "text": [
            "Enter value of N: 5\n",
            "1 0 0 0 0 \n",
            "0 0 1 0 0 \n",
            "0 0 0 0 1 \n",
            "0 1 0 0 0 \n",
            "0 0 0 1 0 \n",
            "\n",
            "1 0 0 0 0 \n",
            "0 0 0 1 0 \n",
            "0 1 0 0 0 \n",
            "0 0 0 0 1 \n",
            "0 0 1 0 0 \n",
            "\n",
            "0 1 0 0 0 \n",
            "0 0 0 1 0 \n",
            "1 0 0 0 0 \n",
            "0 0 1 0 0 \n",
            "0 0 0 0 1 \n",
            "\n",
            "0 1 0 0 0 \n",
            "0 0 0 0 1 \n",
            "0 0 1 0 0 \n",
            "1 0 0 0 0 \n",
            "0 0 0 1 0 \n",
            "\n",
            "0 0 1 0 0 \n",
            "1 0 0 0 0 \n",
            "0 0 0 1 0 \n",
            "0 1 0 0 0 \n",
            "0 0 0 0 1 \n",
            "\n",
            "0 0 1 0 0 \n",
            "0 0 0 0 1 \n",
            "0 1 0 0 0 \n",
            "0 0 0 1 0 \n",
            "1 0 0 0 0 \n",
            "\n",
            "0 0 0 1 0 \n",
            "1 0 0 0 0 \n",
            "0 0 1 0 0 \n",
            "0 0 0 0 1 \n",
            "0 1 0 0 0 \n",
            "\n",
            "0 0 0 1 0 \n",
            "0 1 0 0 0 \n",
            "0 0 0 0 1 \n",
            "0 0 1 0 0 \n",
            "1 0 0 0 0 \n",
            "\n",
            "0 0 0 0 1 \n",
            "0 1 0 0 0 \n",
            "0 0 0 1 0 \n",
            "1 0 0 0 0 \n",
            "0 0 1 0 0 \n",
            "\n",
            "0 0 0 0 1 \n",
            "0 0 1 0 0 \n",
            "1 0 0 0 0 \n",
            "0 0 0 1 0 \n",
            "0 1 0 0 0 \n",
            "\n"
          ]
        }
      ],
      "source": [
        "def print_sol():\n",
        "    for i in range(n):\n",
        "        for j in range(n):\n",
        "            print(a[i][j],end=\" \")\n",
        "        print()\n",
        "    print()\n",
        "\n",
        "def is_safe(row,col):\n",
        "    for i in range(col):\n",
        "        if a[row][i]:\n",
        "            return False\n",
        "\n",
        "    for i in range(row):\n",
        "        if a[i][col]:\n",
        "            return False\n",
        "\n",
        "    for i,j in zip(range(row -1,-1,-1),range(col -1,-1,-1)):\n",
        "        if a[i][j]:\n",
        "            return False\n",
        "\n",
        "    for i,j in zip(range(row -1,-1,-1),range(col+1,n)):\n",
        "        if a[i][j]:\n",
        "            return False\n",
        "\n",
        "    return True\n",
        "\n",
        "def nqueen(row):\n",
        "    if row==n:\n",
        "        print_sol()\n",
        "    else:\n",
        "        for i in range(n):\n",
        "            if is_safe(row,i):\n",
        "                a[row][i]=1\n",
        "                nqueen(row+1)\n",
        "                a[row][i]=0\n",
        "\n",
        "n=int(input(\"Enter value of N: \"))\n",
        "a=[[0]*10 for _ in range(10)]\n",
        "nqueen(0)\n",
        "\n",
        ""
      ]
    }
  ]
}
