{
  "nbformat": 4,
  "nbformat_minor": 0,
  "metadata": {
    "colab": {
      "provenance": [],
      "authorship_tag": "ABX9TyOPGLAnAqI+zIVPBCxmXUTW",
      "include_colab_link": true
    },
    "kernelspec": {
      "name": "python3",
      "display_name": "Python 3"
    },
    "language_info": {
      "name": "python"
    }
  },
  "cells": [
    {
      "cell_type": "markdown",
      "metadata": {
        "id": "view-in-github",
        "colab_type": "text"
      },
      "source": [
        "<a href=\"https://colab.research.google.com/github/kalyanSadhukhan/AI_LAB_217/blob/main/Untitled14.ipynb\" target=\"_parent\"><img src=\"https://colab.research.google.com/assets/colab-badge.svg\" alt=\"Open In Colab\"/></a>"
      ]
    },
    {
      "cell_type": "code",
      "execution_count": 6,
      "metadata": {
        "colab": {
          "base_uri": "https://localhost:8080/"
        },
        "id": "67qqDnoPS5z8",
        "outputId": "cb372138-34a3-4b71-ff2a-3814af2a7e78"
      },
      "outputs": [
        {
          "output_type": "stream",
          "name": "stdout",
          "text": [
            "The optimal value is: 5\n"
          ]
        }
      ],
      "source": [
        "import math\n",
        "def alpha_beta_pruning(depth, node_index, is_max, values, alpha, beta):\n",
        "    if depth == 3:\n",
        "        return values[node_index]\n",
        "    if is_max:\n",
        "        best = -math.inf\n",
        "        for i in range(2):\n",
        "            val = alpha_beta_pruning(depth + 1, node_index * 2 + i, False, values, alpha, beta)\n",
        "            best = max(best, val)\n",
        "            alpha = max(alpha, best)\n",
        "            if beta <= alpha:\n",
        "                break\n",
        "        return best\n",
        "    else:\n",
        "        best = math.inf\n",
        "        for i in range(2):\n",
        "            val = alpha_beta_pruning(depth + 1, node_index * 2 + i, True, values, alpha, beta)\n",
        "            best = min(best, val)\n",
        "            beta = min(beta, best)\n",
        "            if beta <= alpha:\n",
        "                break\n",
        "        return best\n",
        "values = [3, 5, 6, 9, 1, 2, 0, -1]\n",
        "optimal_value = alpha_beta_pruning(0, 0, True, values, -math.inf, math.inf)\n",
        "print(\"The optimal value is:\", optimal_value)\n"
      ]
    }
  ]
}
