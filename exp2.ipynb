{
  "nbformat": 4,
  "nbformat_minor": 0,
  "metadata": {
    "colab": {
      "provenance": [],
      "authorship_tag": "ABX9TyOS5GN73xGi8MLWwQkDEcr9",
      "include_colab_link": true
    },
    "kernelspec": {
      "name": "python3",
      "display_name": "Python 3"
    },
    "language_info": {
      "name": "python"
    }
  },
  "cells": [
    {
      "cell_type": "markdown",
      "metadata": {
        "id": "view-in-github",
        "colab_type": "text"
      },
      "source": [
        "<a href=\"https://colab.research.google.com/github/kalyanSadhukhan/AI_LAB_217/blob/main/Untitled14.ipynb\" target=\"_parent\"><img src=\"https://colab.research.google.com/assets/colab-badge.svg\" alt=\"Open In Colab\"/></a>"
      ]
    },
    {
      "cell_type": "code",
      "execution_count": 2,
      "metadata": {
        "colab": {
          "base_uri": "https://localhost:8080/"
        },
        "id": "67qqDnoPS5z8",
        "outputId": "9daeb8f0-1274-4ed6-8266-a2fa7f3db230"
      },
      "outputs": [
        {
          "output_type": "stream",
          "name": "stdout",
          "text": [
            "Dataframe: \n",
            "      Name  Age Department  Salary\n",
            "0    Alice   24         HR   50000\n",
            "1      Bob   27    FINANCE   60000\n",
            "2  Charlie   22         IT   55000\n",
            "3    David   32  MARKETING   65000\n",
            "\n",
            "Names: \n",
            "0      Alice\n",
            "1        Bob\n",
            "2    Charlie\n",
            "3      David\n",
            "Name: Name, dtype: object\n"
          ]
        }
      ],
      "source": [
        "import pandas as pd\n",
        "data = {\"Name\":[\"Alice\",\"Bob\",\"Charlie\",\"David\"],\"Age\":[24,27,22,32],\"Department\":[\"HR\",\"FINANCE\",\"IT\",\"MARKETING\"],\"Salary\":[50000,60000,55000,65000]}\n",
        "df=pd.DataFrame(data)\n",
        "print(\"Dataframe: \")\n",
        "print(df)\n",
        "print(\"\\nNames: \")\n",
        "print(df[\"Name\"])"
      ]
    }
  ]
}
