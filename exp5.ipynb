{
  "nbformat": 4,
  "nbformat_minor": 0,
  "metadata": {
    "colab": {
      "provenance": [],
      "authorship_tag": "ABX9TyMEn5vSREAOwKZecrPLSBIY",
      "include_colab_link": true
    },
    "kernelspec": {
      "name": "python3",
      "display_name": "Python 3"
    },
    "language_info": {
      "name": "python"
    }
  },
  "cells": [
    {
      "cell_type": "markdown",
      "metadata": {
        "id": "view-in-github",
        "colab_type": "text"
      },
      "source": [
        "<a href=\"https://colab.research.google.com/github/kalyanSadhukhan/AI_LAB_217/blob/main/Untitled15.ipynb\" target=\"_parent\"><img src=\"https://colab.research.google.com/assets/colab-badge.svg\" alt=\"Open In Colab\"/></a>"
      ]
    },
    {
      "cell_type": "code",
      "execution_count": 1,
      "metadata": {
        "colab": {
          "base_uri": "https://localhost:8080/"
        },
        "id": "oi2VwT1LWugw",
        "outputId": "e4bd9776-71ab-4a7c-d6ef-687f8b2b9339"
      },
      "outputs": [
        {
          "output_type": "stream",
          "name": "stdout",
          "text": [
            "Best x:  3.4532, Best value:  6.4532\n"
          ]
        }
      ],
      "source": [
        "import random\n",
        "\n",
        "def objective_function(x):\n",
        "    return x+3\n",
        "\n",
        "def hill_climb(start, step_size=0.1, max_iterations=100):\n",
        "    current_x = start\n",
        "    current_value = objective_function(current_x)\n",
        "\n",
        "    for i in range(max_iterations):\n",
        "        neighbor = current_x + random.choice([-step_size, step_size])\n",
        "        neighbor_value = objective_function(neighbor)\n",
        "\n",
        "        if neighbor_value > current_value:\n",
        "            current_x, current_value = neighbor, neighbor_value\n",
        "        else:\n",
        "            break\n",
        "\n",
        "    return current_x, current_value\n",
        "\n",
        "start_x = random.uniform(0, 5)\n",
        "best_x, best_value = hill_climb(start_x)\n",
        "\n",
        "print(f'Best x: {best_x: .4f}, Best value: {best_value: .4f}')\n"
      ]
    }
  ]
}
